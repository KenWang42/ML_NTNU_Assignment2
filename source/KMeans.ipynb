{
 "cells": [
  {
   "cell_type": "code",
   "execution_count": 1,
   "metadata": {},
   "outputs": [],
   "source": [
    "import pandas as pd\n",
    "from sklearn.cluster import KMeans\n",
    "import sklearn.metrics as met"
   ]
  },
  {
   "cell_type": "code",
   "execution_count": 7,
   "metadata": {},
   "outputs": [],
   "source": [
    "df = pd.read_csv(r'..\\data\\UCI_Credit_Card_NC.csv')\n",
    "y = df['def_pay']\n",
    "X = df.drop(columns='def_pay')"
   ]
  },
  {
   "cell_type": "code",
   "execution_count": 9,
   "metadata": {},
   "outputs": [],
   "source": [
    "# get the prob of each cluster\n",
    "def setLabel(y, y_res, y_clf, n_clusters):\n",
    "    prob = []\n",
    "    for i in range(n_clusters):\n",
    "        prob.append(y[y_clf == i].sum() / y[y_clf == i].size)\n",
    "        if prob[i] >= 0.5:\n",
    "            y_res[y_clf == i] = 1\n",
    "    print(prob)"
   ]
  },
  {
   "cell_type": "code",
   "execution_count": 34,
   "metadata": {},
   "outputs": [
    {
     "name": "stdout",
     "output_type": "stream",
     "text": [
      "The ratio of true 1 in label 0 and label 1:\n",
      "[0.2511979823455233, 0.16275184275184276]\n"
     ]
    }
   ],
   "source": [
    "# K-Means 2_cluster\n",
    "kmeans2 = KMeans(n_clusters=2)\n",
    "kmeans2.fit(X)\n",
    "y2 = pd.Series(kmeans2.labels_)\n",
    "print('The ratio of true 1 in label 0 and label 1:')\n",
    "setLabel(y, y2_res, y2, 2)"
   ]
  },
  {
   "cell_type": "code",
   "execution_count": 32,
   "metadata": {},
   "outputs": [
    {
     "name": "stdout",
     "output_type": "stream",
     "text": [
      "The accuracy of 2 clusters: 0.550033\n"
     ]
    }
   ],
   "source": [
    "acc2 = met.accuracy_score(y, y2)\n",
    "print('The accuracy of 2 clusters: %.6f' % (acc2))"
   ]
  },
  {
   "cell_type": "code",
   "execution_count": 38,
   "metadata": {},
   "outputs": [
    {
     "name": "stdout",
     "output_type": "stream",
     "text": [
      "The ratio of true 1 from label 0 to label 3:\n",
      "[0.15694020470461484, 0.1653815168603982, 0.49700598802395207, 0.6345878989995236]\n",
      "The accuracy of 4 clusters: 0.807\n"
     ]
    }
   ],
   "source": [
    "# K-Means 4_cluster\n",
    "kmeans4 = KMeans(n_clusters=4)\n",
    "kmeans4.fit(X)\n",
    "y4 = pd.Series(kmeans4.labels_)\n",
    "y4_res = pd.Series(0, index=y.index)\n",
    "print('The ratio of true 1 from label 0 to label 3:')\n",
    "setLabel(y, y4_res, y4, 4)\n",
    "\n",
    "acc4 = met.accuracy_score(y, y4_res)\n",
    "print('The accuracy of 4 clusters: %.3f' % (acc2))"
   ]
  },
  {
   "cell_type": "code",
   "execution_count": 40,
   "metadata": {},
   "outputs": [
    {
     "name": "stdout",
     "output_type": "stream",
     "text": [
      "The ratio of true 1 from label 0 to label 7:\n",
      "[0.3863794301598332, 0.14042867701404288, 0.14477443934539788, 0.6757907542579076, 0.49345162653147445, 0.13985196727697702, 0.2567820392890552, 0.15944426066821038]\n",
      "The accuracy of 8 clusters: 0.798\n"
     ]
    }
   ],
   "source": [
    "# K-Means 8_cluster\n",
    "kmeans8 = KMeans(n_clusters=8)\n",
    "kmeans8.fit(X)\n",
    "y8 = pd.Series(kmeans8.labels_)\n",
    "y8_res = pd.Series(0, index=y.index)\n",
    "print('The ratio of true 1 from label 0 to label 7:')\n",
    "setLabel(y, y8_res, y8, 8)\n",
    "\n",
    "acc8 = met.accuracy_score(y, y8_res)\n",
    "print('The accuracy of 8 clusters: %.3f' % (acc8))"
   ]
  },
  {
   "cell_type": "code",
   "execution_count": 41,
   "metadata": {},
   "outputs": [
    {
     "name": "stdout",
     "output_type": "stream",
     "text": [
      "The ratio of true 1 from label 0 to label 15:\n",
      "[0.2705749718151071, 0.13537320352341214, 0.09844908968307485, 0.6189111747851003, 0.14042867701404288, 0.5189088654680719, 0.5662650602409639, 0.1287952987267385, 0.7023712183156173, 0.25236242356864924, 0.5390749601275917, 0.25989304812834224, 0.12157468159011965, 0.689922480620155, 0.44648829431438125, 0.19167803547066847]\n",
      "The accuracy of 4 clusters: 0.807\n"
     ]
    }
   ],
   "source": [
    "# K-Means 16_cluster\n",
    "kmeans16 = KMeans(n_clusters=16)\n",
    "kmeans16.fit(X)\n",
    "y16 = pd.Series(kmeans16.labels_)\n",
    "y16_res = pd.Series(0, index=y.index)\n",
    "print('The ratio of true 1 from label 0 to label 15:')\n",
    "setLabel(y, y16_res, y16, 16)\n",
    "\n",
    "acc16 = met.accuracy_score(y, y16_res)\n",
    "print('The accuracy of 4 clusters: %.3f' % (acc16))"
   ]
  },
  {
   "cell_type": "code",
   "execution_count": 42,
   "metadata": {},
   "outputs": [
    {
     "name": "stdout",
     "output_type": "stream",
     "text": [
      "The ratio of true 1 from label 0 to label 31:\n",
      "[0.575098814229249, 0.10535047698050601, 0.14534883720930233, 0.7411003236245954, 0.20636550308008214, 0.12330145948666331, 0.0735930735930736, 0.5619047619047619, 0.18181818181818182, 0.4233576642335766, 0.13239757207890743, 0.7808219178082192, 0.41103017689906346, 0.13414634146341464, 0.086073500967118, 0.32447397563676633, 0.249079754601227, 0.1575178997613365, 0.07739938080495357, 0.6060606060606061, 0.23809523809523808, 0.608433734939759, 0.6742934051144011, 0.25411061285500747, 0.13555858310626703, 0.40350877192982454, 0.13119533527696792, 0.1325366648560565, 0.21559633027522937, 0.6887921653971708, 0.2182410423452769, 0.4272300469483568]\n",
      "The accuracy of 4 clusters: 0.814\n"
     ]
    }
   ],
   "source": [
    "# K-Means 32_cluster\n",
    "kmeans32 = KMeans(n_clusters=32)\n",
    "kmeans32.fit(X)\n",
    "y32 = pd.Series(kmeans32.labels_)\n",
    "y32_res = pd.Series(0, index=y.index)\n",
    "print('The ratio of true 1 from label 0 to label 31:')\n",
    "setLabel(y, y32_res, y32, 32)\n",
    "\n",
    "acc32 = met.accuracy_score(y, y32_res)\n",
    "print('The accuracy of 4 clusters: %.3f' % (acc32))"
   ]
  },
  {
   "cell_type": "code",
   "execution_count": null,
   "metadata": {},
   "outputs": [],
   "source": []
  }
 ],
 "metadata": {
  "kernelspec": {
   "display_name": "Python 3",
   "language": "python",
   "name": "python3"
  },
  "language_info": {
   "codemirror_mode": {
    "name": "ipython",
    "version": 3
   },
   "file_extension": ".py",
   "mimetype": "text/x-python",
   "name": "python",
   "nbconvert_exporter": "python",
   "pygments_lexer": "ipython3",
   "version": "3.7.2"
  }
 },
 "nbformat": 4,
 "nbformat_minor": 2
}
