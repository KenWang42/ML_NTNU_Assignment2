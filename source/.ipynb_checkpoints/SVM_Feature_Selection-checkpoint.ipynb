{
 "cells": [
  {
   "cell_type": "code",
   "execution_count": 1,
   "metadata": {},
   "outputs": [],
   "source": [
    "import numpy as np\n",
    "import pandas as pd\n",
    "import matplotlib.pyplot as plt\n",
    "import seaborn as sns\n",
    "%matplotlib inline"
   ]
  },
  {
   "cell_type": "code",
   "execution_count": 3,
   "metadata": {},
   "outputs": [
    {
     "data": {
      "text/html": [
       "<div>\n",
       "<style scoped>\n",
       "    .dataframe tbody tr th:only-of-type {\n",
       "        vertical-align: middle;\n",
       "    }\n",
       "\n",
       "    .dataframe tbody tr th {\n",
       "        vertical-align: top;\n",
       "    }\n",
       "\n",
       "    .dataframe thead th {\n",
       "        text-align: right;\n",
       "    }\n",
       "</style>\n",
       "<table border=\"1\" class=\"dataframe\">\n",
       "  <thead>\n",
       "    <tr style=\"text-align: right;\">\n",
       "      <th></th>\n",
       "      <th>LIMIT_BAL</th>\n",
       "      <th>AGE</th>\n",
       "      <th>PAY_1</th>\n",
       "      <th>PAY_2</th>\n",
       "      <th>PAY_3</th>\n",
       "      <th>PAY_4</th>\n",
       "      <th>PAY_5</th>\n",
       "      <th>PAY_6</th>\n",
       "      <th>BILL_AMT1</th>\n",
       "      <th>BILL_AMT2</th>\n",
       "      <th>...</th>\n",
       "      <th>EDUCATION_2</th>\n",
       "      <th>EDUCATION_3</th>\n",
       "      <th>EDUCATION_4</th>\n",
       "      <th>EDUCATION_5</th>\n",
       "      <th>EDUCATION_6</th>\n",
       "      <th>MARRIAGE_0</th>\n",
       "      <th>MARRIAGE_1</th>\n",
       "      <th>MARRIAGE_2</th>\n",
       "      <th>MARRIAGE_3</th>\n",
       "      <th>def_pay</th>\n",
       "    </tr>\n",
       "  </thead>\n",
       "  <tbody>\n",
       "    <tr>\n",
       "      <th>0</th>\n",
       "      <td>-1.136720</td>\n",
       "      <td>-1.246020</td>\n",
       "      <td>1.794564</td>\n",
       "      <td>1.782348</td>\n",
       "      <td>-0.696663</td>\n",
       "      <td>-0.666599</td>\n",
       "      <td>-1.530046</td>\n",
       "      <td>-1.486041</td>\n",
       "      <td>-0.642501</td>\n",
       "      <td>-0.647399</td>\n",
       "      <td>...</td>\n",
       "      <td>1</td>\n",
       "      <td>0</td>\n",
       "      <td>0</td>\n",
       "      <td>0</td>\n",
       "      <td>0</td>\n",
       "      <td>0</td>\n",
       "      <td>1</td>\n",
       "      <td>0</td>\n",
       "      <td>0</td>\n",
       "      <td>1</td>\n",
       "    </tr>\n",
       "    <tr>\n",
       "      <th>1</th>\n",
       "      <td>-0.365981</td>\n",
       "      <td>-1.029047</td>\n",
       "      <td>-0.874991</td>\n",
       "      <td>1.782348</td>\n",
       "      <td>0.138865</td>\n",
       "      <td>0.188746</td>\n",
       "      <td>0.234917</td>\n",
       "      <td>1.992316</td>\n",
       "      <td>-0.659219</td>\n",
       "      <td>-0.666747</td>\n",
       "      <td>...</td>\n",
       "      <td>1</td>\n",
       "      <td>0</td>\n",
       "      <td>0</td>\n",
       "      <td>0</td>\n",
       "      <td>0</td>\n",
       "      <td>0</td>\n",
       "      <td>0</td>\n",
       "      <td>1</td>\n",
       "      <td>0</td>\n",
       "      <td>1</td>\n",
       "    </tr>\n",
       "    <tr>\n",
       "      <th>2</th>\n",
       "      <td>-0.597202</td>\n",
       "      <td>-0.161156</td>\n",
       "      <td>0.014861</td>\n",
       "      <td>0.111736</td>\n",
       "      <td>0.138865</td>\n",
       "      <td>0.188746</td>\n",
       "      <td>0.234917</td>\n",
       "      <td>0.253137</td>\n",
       "      <td>-0.298560</td>\n",
       "      <td>-0.493899</td>\n",
       "      <td>...</td>\n",
       "      <td>1</td>\n",
       "      <td>0</td>\n",
       "      <td>0</td>\n",
       "      <td>0</td>\n",
       "      <td>0</td>\n",
       "      <td>0</td>\n",
       "      <td>0</td>\n",
       "      <td>1</td>\n",
       "      <td>0</td>\n",
       "      <td>0</td>\n",
       "    </tr>\n",
       "    <tr>\n",
       "      <th>3</th>\n",
       "      <td>-0.905498</td>\n",
       "      <td>0.164303</td>\n",
       "      <td>0.014861</td>\n",
       "      <td>0.111736</td>\n",
       "      <td>0.138865</td>\n",
       "      <td>0.188746</td>\n",
       "      <td>0.234917</td>\n",
       "      <td>0.253137</td>\n",
       "      <td>-0.057491</td>\n",
       "      <td>-0.013293</td>\n",
       "      <td>...</td>\n",
       "      <td>1</td>\n",
       "      <td>0</td>\n",
       "      <td>0</td>\n",
       "      <td>0</td>\n",
       "      <td>0</td>\n",
       "      <td>0</td>\n",
       "      <td>1</td>\n",
       "      <td>0</td>\n",
       "      <td>0</td>\n",
       "      <td>0</td>\n",
       "    </tr>\n",
       "    <tr>\n",
       "      <th>4</th>\n",
       "      <td>-0.905498</td>\n",
       "      <td>2.334029</td>\n",
       "      <td>-0.874991</td>\n",
       "      <td>0.111736</td>\n",
       "      <td>-0.696663</td>\n",
       "      <td>0.188746</td>\n",
       "      <td>0.234917</td>\n",
       "      <td>0.253137</td>\n",
       "      <td>-0.578618</td>\n",
       "      <td>-0.611318</td>\n",
       "      <td>...</td>\n",
       "      <td>1</td>\n",
       "      <td>0</td>\n",
       "      <td>0</td>\n",
       "      <td>0</td>\n",
       "      <td>0</td>\n",
       "      <td>0</td>\n",
       "      <td>1</td>\n",
       "      <td>0</td>\n",
       "      <td>0</td>\n",
       "      <td>0</td>\n",
       "    </tr>\n",
       "  </tbody>\n",
       "</table>\n",
       "<p>5 rows × 34 columns</p>\n",
       "</div>"
      ],
      "text/plain": [
       "   LIMIT_BAL       AGE     PAY_1     PAY_2     PAY_3     PAY_4     PAY_5  \\\n",
       "0  -1.136720 -1.246020  1.794564  1.782348 -0.696663 -0.666599 -1.530046   \n",
       "1  -0.365981 -1.029047 -0.874991  1.782348  0.138865  0.188746  0.234917   \n",
       "2  -0.597202 -0.161156  0.014861  0.111736  0.138865  0.188746  0.234917   \n",
       "3  -0.905498  0.164303  0.014861  0.111736  0.138865  0.188746  0.234917   \n",
       "4  -0.905498  2.334029 -0.874991  0.111736 -0.696663  0.188746  0.234917   \n",
       "\n",
       "      PAY_6  BILL_AMT1  BILL_AMT2  ...  EDUCATION_2  EDUCATION_3  EDUCATION_4  \\\n",
       "0 -1.486041  -0.642501  -0.647399  ...            1            0            0   \n",
       "1  1.992316  -0.659219  -0.666747  ...            1            0            0   \n",
       "2  0.253137  -0.298560  -0.493899  ...            1            0            0   \n",
       "3  0.253137  -0.057491  -0.013293  ...            1            0            0   \n",
       "4  0.253137  -0.578618  -0.611318  ...            1            0            0   \n",
       "\n",
       "   EDUCATION_5  EDUCATION_6  MARRIAGE_0  MARRIAGE_1  MARRIAGE_2  MARRIAGE_3  \\\n",
       "0            0            0           0           1           0           0   \n",
       "1            0            0           0           0           1           0   \n",
       "2            0            0           0           0           1           0   \n",
       "3            0            0           0           1           0           0   \n",
       "4            0            0           0           1           0           0   \n",
       "\n",
       "   def_pay  \n",
       "0        1  \n",
       "1        1  \n",
       "2        0  \n",
       "3        0  \n",
       "4        0  \n",
       "\n",
       "[5 rows x 34 columns]"
      ]
     },
     "execution_count": 3,
     "metadata": {},
     "output_type": "execute_result"
    }
   ],
   "source": [
    "df = pd.read_csv('../data/UCI_Credit_Card_OHE.csv')\n",
    "features = df.drop(columns='def_pay')\n",
    "target = df['def_pay']\n",
    "df.head()"
   ]
  },
  {
   "cell_type": "markdown",
   "metadata": {},
   "source": [
    "## Dataset\n",
    "Make a smaller dataset for feature selection to reduce the exhausting fitting time of SVM\n",
    "Also get the base accuracy with all feature seleced"
   ]
  },
  {
   "cell_type": "code",
   "execution_count": 45,
   "metadata": {},
   "outputs": [],
   "source": [
    "from sklearn.model_selection import train_test_split\n",
    "X_train, X_test, y_train, y_test = train_test_split(features, target, test_size=0.9)"
   ]
  },
  {
   "cell_type": "code",
   "execution_count": 47,
   "metadata": {},
   "outputs": [
    {
     "data": {
      "text/plain": [
       "(3000, 33)"
      ]
     },
     "execution_count": 47,
     "metadata": {},
     "output_type": "execute_result"
    }
   ],
   "source": [
    "X_train.shape"
   ]
  },
  {
   "cell_type": "code",
   "execution_count": 48,
   "metadata": {},
   "outputs": [],
   "source": [
    "from sklearn.svm import SVC\n",
    "from sklearn.metrics import accuracy_score\n",
    "clf = SVC(kernel='linear')\n",
    "clf_poly = SVC(kernel='poly')"
   ]
  },
  {
   "cell_type": "code",
   "execution_count": 103,
   "metadata": {},
   "outputs": [
    {
     "data": {
      "text/plain": [
       "0.8092592592592592"
      ]
     },
     "execution_count": 103,
     "metadata": {},
     "output_type": "execute_result"
    }
   ],
   "source": [
    "predictor_linear = clf.fit(X_train,y_train)\n",
    "y_predict_test = predictor_linear.predict(X_test)\n",
    "acc_linear_base = accuracy_score(y_test, y_predict_test)\n",
    "acc_linear_base"
   ]
  },
  {
   "cell_type": "code",
   "execution_count": 104,
   "metadata": {},
   "outputs": [
    {
     "name": "stderr",
     "output_type": "stream",
     "text": [
      "c:\\users\\kangy\\appdata\\local\\programs\\python\\python37\\lib\\site-packages\\sklearn\\svm\\base.py:196: FutureWarning: The default value of gamma will change from 'auto' to 'scale' in version 0.22 to account better for unscaled features. Set gamma explicitly to 'auto' or 'scale' to avoid this warning.\n",
      "  \"avoid this warning.\", FutureWarning)\n"
     ]
    },
    {
     "data": {
      "text/plain": [
       "0.8011111111111111"
      ]
     },
     "execution_count": 104,
     "metadata": {},
     "output_type": "execute_result"
    }
   ],
   "source": [
    "predictor_poly = clf_poly.fit(X_train,y_train)\n",
    "y_predict_test = predictor_poly.predict(X_test)\n",
    "accuracy_score(y_test, y_predict_test)\n",
    "acc_poly_base = accuracy_score(y_test, y_predict_test)\n",
    "acc_poly_base"
   ]
  },
  {
   "cell_type": "markdown",
   "metadata": {},
   "source": [
    "# Feature Weight\n",
    "take out one feature at a time to find out how each feature impact the accuracy of SVM"
   ]
  },
  {
   "cell_type": "code",
   "execution_count": 64,
   "metadata": {},
   "outputs": [
    {
     "data": {
      "text/plain": [
       "Index(['LIMIT_BAL', 'AGE', 'PAY_1', 'PAY_2', 'PAY_3', 'PAY_4', 'PAY_5',\n",
       "       'PAY_6', 'BILL_AMT1', 'BILL_AMT2', 'BILL_AMT3', 'BILL_AMT4',\n",
       "       'BILL_AMT5', 'BILL_AMT6', 'PAY_AMT1', 'PAY_AMT2', 'PAY_AMT3',\n",
       "       'PAY_AMT4', 'PAY_AMT5', 'PAY_AMT6', 'SEX_1', 'SEX_2', 'EDUCATION_0',\n",
       "       'EDUCATION_1', 'EDUCATION_2', 'EDUCATION_3', 'EDUCATION_4',\n",
       "       'EDUCATION_5', 'EDUCATION_6', 'MARRIAGE_0', 'MARRIAGE_1', 'MARRIAGE_2',\n",
       "       'MARRIAGE_3'],\n",
       "      dtype='object')"
      ]
     },
     "execution_count": 64,
     "metadata": {},
     "output_type": "execute_result"
    }
   ],
   "source": [
    "cols = features.columns\n",
    "cols"
   ]
  },
  {
   "cell_type": "code",
   "execution_count": 88,
   "metadata": {},
   "outputs": [
    {
     "name": "stdout",
     "output_type": "stream",
     "text": [
      "Linear SVM without  feature LIMIT_BAL 0.8098888888888889 \n",
      "\n"
     ]
    },
    {
     "name": "stderr",
     "output_type": "stream",
     "text": [
      "c:\\users\\kangy\\appdata\\local\\programs\\python\\python37\\lib\\site-packages\\sklearn\\svm\\base.py:196: FutureWarning: The default value of gamma will change from 'auto' to 'scale' in version 0.22 to account better for unscaled features. Set gamma explicitly to 'auto' or 'scale' to avoid this warning.\n",
      "  \"avoid this warning.\", FutureWarning)\n"
     ]
    },
    {
     "name": "stdout",
     "output_type": "stream",
     "text": [
      "Poly SVM without  feature LIMIT_BAL 0.8017777777777778 \n",
      "\n",
      "Linear SVM without  feature AGE 0.8090740740740741 \n",
      "\n"
     ]
    },
    {
     "name": "stderr",
     "output_type": "stream",
     "text": [
      "c:\\users\\kangy\\appdata\\local\\programs\\python\\python37\\lib\\site-packages\\sklearn\\svm\\base.py:196: FutureWarning: The default value of gamma will change from 'auto' to 'scale' in version 0.22 to account better for unscaled features. Set gamma explicitly to 'auto' or 'scale' to avoid this warning.\n",
      "  \"avoid this warning.\", FutureWarning)\n"
     ]
    },
    {
     "name": "stdout",
     "output_type": "stream",
     "text": [
      "Poly SVM without  feature AGE 0.800962962962963 \n",
      "\n",
      "Linear SVM without  feature PAY_1 0.7785925925925926 \n",
      "\n"
     ]
    },
    {
     "name": "stderr",
     "output_type": "stream",
     "text": [
      "c:\\users\\kangy\\appdata\\local\\programs\\python\\python37\\lib\\site-packages\\sklearn\\svm\\base.py:196: FutureWarning: The default value of gamma will change from 'auto' to 'scale' in version 0.22 to account better for unscaled features. Set gamma explicitly to 'auto' or 'scale' to avoid this warning.\n",
      "  \"avoid this warning.\", FutureWarning)\n"
     ]
    },
    {
     "name": "stdout",
     "output_type": "stream",
     "text": [
      "Poly SVM without  feature PAY_1 0.795074074074074 \n",
      "\n",
      "Linear SVM without  feature PAY_2 0.8053333333333333 \n",
      "\n"
     ]
    },
    {
     "name": "stderr",
     "output_type": "stream",
     "text": [
      "c:\\users\\kangy\\appdata\\local\\programs\\python\\python37\\lib\\site-packages\\sklearn\\svm\\base.py:196: FutureWarning: The default value of gamma will change from 'auto' to 'scale' in version 0.22 to account better for unscaled features. Set gamma explicitly to 'auto' or 'scale' to avoid this warning.\n",
      "  \"avoid this warning.\", FutureWarning)\n"
     ]
    },
    {
     "name": "stdout",
     "output_type": "stream",
     "text": [
      "Poly SVM without  feature PAY_2 0.799074074074074 \n",
      "\n",
      "Linear SVM without  feature PAY_3 0.8092222222222222 \n",
      "\n"
     ]
    },
    {
     "name": "stderr",
     "output_type": "stream",
     "text": [
      "c:\\users\\kangy\\appdata\\local\\programs\\python\\python37\\lib\\site-packages\\sklearn\\svm\\base.py:196: FutureWarning: The default value of gamma will change from 'auto' to 'scale' in version 0.22 to account better for unscaled features. Set gamma explicitly to 'auto' or 'scale' to avoid this warning.\n",
      "  \"avoid this warning.\", FutureWarning)\n"
     ]
    },
    {
     "name": "stdout",
     "output_type": "stream",
     "text": [
      "Poly SVM without  feature PAY_3 0.8012222222222222 \n",
      "\n",
      "Linear SVM without  feature PAY_4 0.8093703703703704 \n",
      "\n"
     ]
    },
    {
     "name": "stderr",
     "output_type": "stream",
     "text": [
      "c:\\users\\kangy\\appdata\\local\\programs\\python\\python37\\lib\\site-packages\\sklearn\\svm\\base.py:196: FutureWarning: The default value of gamma will change from 'auto' to 'scale' in version 0.22 to account better for unscaled features. Set gamma explicitly to 'auto' or 'scale' to avoid this warning.\n",
      "  \"avoid this warning.\", FutureWarning)\n"
     ]
    },
    {
     "name": "stdout",
     "output_type": "stream",
     "text": [
      "Poly SVM without  feature PAY_4 0.8016666666666666 \n",
      "\n",
      "Linear SVM without  feature PAY_5 0.8098148148148148 \n",
      "\n"
     ]
    },
    {
     "name": "stderr",
     "output_type": "stream",
     "text": [
      "c:\\users\\kangy\\appdata\\local\\programs\\python\\python37\\lib\\site-packages\\sklearn\\svm\\base.py:196: FutureWarning: The default value of gamma will change from 'auto' to 'scale' in version 0.22 to account better for unscaled features. Set gamma explicitly to 'auto' or 'scale' to avoid this warning.\n",
      "  \"avoid this warning.\", FutureWarning)\n"
     ]
    },
    {
     "name": "stdout",
     "output_type": "stream",
     "text": [
      "Poly SVM without  feature PAY_5 0.8014074074074075 \n",
      "\n",
      "Linear SVM without  feature PAY_6 0.8112592592592592 \n",
      "\n"
     ]
    },
    {
     "name": "stderr",
     "output_type": "stream",
     "text": [
      "c:\\users\\kangy\\appdata\\local\\programs\\python\\python37\\lib\\site-packages\\sklearn\\svm\\base.py:196: FutureWarning: The default value of gamma will change from 'auto' to 'scale' in version 0.22 to account better for unscaled features. Set gamma explicitly to 'auto' or 'scale' to avoid this warning.\n",
      "  \"avoid this warning.\", FutureWarning)\n"
     ]
    },
    {
     "name": "stdout",
     "output_type": "stream",
     "text": [
      "Poly SVM without  feature PAY_6 0.7997037037037037 \n",
      "\n",
      "Linear SVM without  feature BILL_AMT1 0.8097037037037037 \n",
      "\n"
     ]
    },
    {
     "name": "stderr",
     "output_type": "stream",
     "text": [
      "c:\\users\\kangy\\appdata\\local\\programs\\python\\python37\\lib\\site-packages\\sklearn\\svm\\base.py:196: FutureWarning: The default value of gamma will change from 'auto' to 'scale' in version 0.22 to account better for unscaled features. Set gamma explicitly to 'auto' or 'scale' to avoid this warning.\n",
      "  \"avoid this warning.\", FutureWarning)\n"
     ]
    },
    {
     "name": "stdout",
     "output_type": "stream",
     "text": [
      "Poly SVM without  feature BILL_AMT1 0.8012962962962963 \n",
      "\n",
      "Linear SVM without  feature BILL_AMT2 0.8091481481481482 \n",
      "\n"
     ]
    },
    {
     "name": "stderr",
     "output_type": "stream",
     "text": [
      "c:\\users\\kangy\\appdata\\local\\programs\\python\\python37\\lib\\site-packages\\sklearn\\svm\\base.py:196: FutureWarning: The default value of gamma will change from 'auto' to 'scale' in version 0.22 to account better for unscaled features. Set gamma explicitly to 'auto' or 'scale' to avoid this warning.\n",
      "  \"avoid this warning.\", FutureWarning)\n"
     ]
    },
    {
     "name": "stdout",
     "output_type": "stream",
     "text": [
      "Poly SVM without  feature BILL_AMT2 0.8011111111111111 \n",
      "\n",
      "Linear SVM without  feature BILL_AMT3 0.809 \n",
      "\n"
     ]
    },
    {
     "name": "stderr",
     "output_type": "stream",
     "text": [
      "c:\\users\\kangy\\appdata\\local\\programs\\python\\python37\\lib\\site-packages\\sklearn\\svm\\base.py:196: FutureWarning: The default value of gamma will change from 'auto' to 'scale' in version 0.22 to account better for unscaled features. Set gamma explicitly to 'auto' or 'scale' to avoid this warning.\n",
      "  \"avoid this warning.\", FutureWarning)\n"
     ]
    },
    {
     "name": "stdout",
     "output_type": "stream",
     "text": [
      "Poly SVM without  feature BILL_AMT3 0.801037037037037 \n",
      "\n",
      "Linear SVM without  feature BILL_AMT4 0.809037037037037 \n",
      "\n"
     ]
    },
    {
     "name": "stderr",
     "output_type": "stream",
     "text": [
      "c:\\users\\kangy\\appdata\\local\\programs\\python\\python37\\lib\\site-packages\\sklearn\\svm\\base.py:196: FutureWarning: The default value of gamma will change from 'auto' to 'scale' in version 0.22 to account better for unscaled features. Set gamma explicitly to 'auto' or 'scale' to avoid this warning.\n",
      "  \"avoid this warning.\", FutureWarning)\n"
     ]
    },
    {
     "name": "stdout",
     "output_type": "stream",
     "text": [
      "Poly SVM without  feature BILL_AMT4 0.8015185185185185 \n",
      "\n",
      "Linear SVM without  feature BILL_AMT5 0.8094814814814815 \n",
      "\n"
     ]
    },
    {
     "name": "stderr",
     "output_type": "stream",
     "text": [
      "c:\\users\\kangy\\appdata\\local\\programs\\python\\python37\\lib\\site-packages\\sklearn\\svm\\base.py:196: FutureWarning: The default value of gamma will change from 'auto' to 'scale' in version 0.22 to account better for unscaled features. Set gamma explicitly to 'auto' or 'scale' to avoid this warning.\n",
      "  \"avoid this warning.\", FutureWarning)\n"
     ]
    },
    {
     "name": "stdout",
     "output_type": "stream",
     "text": [
      "Poly SVM without  feature BILL_AMT5 0.8019259259259259 \n",
      "\n",
      "Linear SVM without  feature BILL_AMT6 0.8092222222222222 \n",
      "\n"
     ]
    },
    {
     "name": "stderr",
     "output_type": "stream",
     "text": [
      "c:\\users\\kangy\\appdata\\local\\programs\\python\\python37\\lib\\site-packages\\sklearn\\svm\\base.py:196: FutureWarning: The default value of gamma will change from 'auto' to 'scale' in version 0.22 to account better for unscaled features. Set gamma explicitly to 'auto' or 'scale' to avoid this warning.\n",
      "  \"avoid this warning.\", FutureWarning)\n"
     ]
    },
    {
     "name": "stdout",
     "output_type": "stream",
     "text": [
      "Poly SVM without  feature BILL_AMT6 0.8015925925925926 \n",
      "\n",
      "Linear SVM without  feature PAY_AMT1 0.8092222222222222 \n",
      "\n"
     ]
    },
    {
     "name": "stderr",
     "output_type": "stream",
     "text": [
      "c:\\users\\kangy\\appdata\\local\\programs\\python\\python37\\lib\\site-packages\\sklearn\\svm\\base.py:196: FutureWarning: The default value of gamma will change from 'auto' to 'scale' in version 0.22 to account better for unscaled features. Set gamma explicitly to 'auto' or 'scale' to avoid this warning.\n",
      "  \"avoid this warning.\", FutureWarning)\n"
     ]
    },
    {
     "name": "stdout",
     "output_type": "stream",
     "text": [
      "Poly SVM without  feature PAY_AMT1 0.8016666666666666 \n",
      "\n",
      "Linear SVM without  feature PAY_AMT2 0.8102592592592592 \n",
      "\n"
     ]
    },
    {
     "name": "stderr",
     "output_type": "stream",
     "text": [
      "c:\\users\\kangy\\appdata\\local\\programs\\python\\python37\\lib\\site-packages\\sklearn\\svm\\base.py:196: FutureWarning: The default value of gamma will change from 'auto' to 'scale' in version 0.22 to account better for unscaled features. Set gamma explicitly to 'auto' or 'scale' to avoid this warning.\n",
      "  \"avoid this warning.\", FutureWarning)\n"
     ]
    },
    {
     "name": "stdout",
     "output_type": "stream",
     "text": [
      "Poly SVM without  feature PAY_AMT2 0.8015185185185185 \n",
      "\n",
      "Linear SVM without  feature PAY_AMT3 0.8094814814814815 \n",
      "\n"
     ]
    },
    {
     "name": "stderr",
     "output_type": "stream",
     "text": [
      "c:\\users\\kangy\\appdata\\local\\programs\\python\\python37\\lib\\site-packages\\sklearn\\svm\\base.py:196: FutureWarning: The default value of gamma will change from 'auto' to 'scale' in version 0.22 to account better for unscaled features. Set gamma explicitly to 'auto' or 'scale' to avoid this warning.\n",
      "  \"avoid this warning.\", FutureWarning)\n"
     ]
    },
    {
     "name": "stdout",
     "output_type": "stream",
     "text": [
      "Poly SVM without  feature PAY_AMT3 0.8012592592592592 \n",
      "\n",
      "Linear SVM without  feature PAY_AMT4 0.809 \n",
      "\n"
     ]
    },
    {
     "name": "stderr",
     "output_type": "stream",
     "text": [
      "c:\\users\\kangy\\appdata\\local\\programs\\python\\python37\\lib\\site-packages\\sklearn\\svm\\base.py:196: FutureWarning: The default value of gamma will change from 'auto' to 'scale' in version 0.22 to account better for unscaled features. Set gamma explicitly to 'auto' or 'scale' to avoid this warning.\n",
      "  \"avoid this warning.\", FutureWarning)\n"
     ]
    },
    {
     "name": "stdout",
     "output_type": "stream",
     "text": [
      "Poly SVM without  feature PAY_AMT4 0.8011851851851852 \n",
      "\n",
      "Linear SVM without  feature PAY_AMT5 0.8102592592592592 \n",
      "\n"
     ]
    },
    {
     "name": "stderr",
     "output_type": "stream",
     "text": [
      "c:\\users\\kangy\\appdata\\local\\programs\\python\\python37\\lib\\site-packages\\sklearn\\svm\\base.py:196: FutureWarning: The default value of gamma will change from 'auto' to 'scale' in version 0.22 to account better for unscaled features. Set gamma explicitly to 'auto' or 'scale' to avoid this warning.\n",
      "  \"avoid this warning.\", FutureWarning)\n"
     ]
    },
    {
     "name": "stdout",
     "output_type": "stream",
     "text": [
      "Poly SVM without  feature PAY_AMT5 0.8019259259259259 \n",
      "\n",
      "Linear SVM without  feature PAY_AMT6 0.8091851851851852 \n",
      "\n"
     ]
    },
    {
     "name": "stderr",
     "output_type": "stream",
     "text": [
      "c:\\users\\kangy\\appdata\\local\\programs\\python\\python37\\lib\\site-packages\\sklearn\\svm\\base.py:196: FutureWarning: The default value of gamma will change from 'auto' to 'scale' in version 0.22 to account better for unscaled features. Set gamma explicitly to 'auto' or 'scale' to avoid this warning.\n",
      "  \"avoid this warning.\", FutureWarning)\n"
     ]
    },
    {
     "name": "stdout",
     "output_type": "stream",
     "text": [
      "Poly SVM without  feature PAY_AMT6 0.802037037037037 \n",
      "\n"
     ]
    }
   ],
   "source": [
    "acc_linear = []\n",
    "acc_poly = []\n",
    "for i in range(1,21):\n",
    "    cols_temp = cols[:i-1].append(cols[i:])\n",
    "    X_train_temp = X_train[cols_temp]\n",
    "    X_test_temp = X_test[cols_temp]\n",
    "    \n",
    "    predictor_linear = clf.fit(X_train_temp,y_train)\n",
    "    y_predict_test_temp = predictor_linear.predict(X_test_temp)\n",
    "    acc_temp = accuracy_score(y_test, y_predict_test_temp)\n",
    "    acc_linear.append(acc_temp)\n",
    "    print('Linear SVM without  feature' ,cols[i-1], acc_temp, '\\n')\n",
    "\n",
    "    predictor_poly = clf_poly.fit(X_train_temp,y_train)\n",
    "    y_predict_test_temp = predictor_poly.predict(X_test_temp)\n",
    "    acc_temp = accuracy_score(y_test, y_predict_test_temp)\n",
    "    acc_poly.append(acc_temp)\n",
    "    print('Poly SVM without  feature' ,cols[i-1], acc_temp, '\\n')"
   ]
  },
  {
   "cell_type": "code",
   "execution_count": 89,
   "metadata": {},
   "outputs": [
    {
     "name": "stdout",
     "output_type": "stream",
     "text": [
      "Linear SVM without feature SEX  0.8092592592592592 \n",
      "\n"
     ]
    },
    {
     "name": "stderr",
     "output_type": "stream",
     "text": [
      "c:\\users\\kangy\\appdata\\local\\programs\\python\\python37\\lib\\site-packages\\sklearn\\svm\\base.py:196: FutureWarning: The default value of gamma will change from 'auto' to 'scale' in version 0.22 to account better for unscaled features. Set gamma explicitly to 'auto' or 'scale' to avoid this warning.\n",
      "  \"avoid this warning.\", FutureWarning)\n"
     ]
    },
    {
     "name": "stdout",
     "output_type": "stream",
     "text": [
      "Poly SVM without feature SEX  0.8025925925925926 \n",
      "\n"
     ]
    }
   ],
   "source": [
    "X_train_temp = X_train.drop(columns=['SEX_1', 'SEX_2'])\n",
    "X_test_temp = X_test.drop(columns=['SEX_1', 'SEX_2'])\n",
    "predictor_linear = clf.fit(X_train_temp,y_train)\n",
    "y_predict_test_temp = predictor_linear.predict(X_test_temp)\n",
    "acc_temp = accuracy_score(y_test, y_predict_test_temp)\n",
    "acc_linear.append(acc_temp)\n",
    "print('Linear SVM without feature SEX ', acc_temp, '\\n')\n",
    "\n",
    "predictor_poly = clf_poly.fit(X_train_temp,y_train)\n",
    "y_predict_test_temp = predictor_poly.predict(X_test_temp)\n",
    "acc_temp = accuracy_score(y_test, y_predict_test_temp)\n",
    "acc_poly.append(acc_temp)\n",
    "print('Poly SVM without feature SEX ', acc_temp, '\\n')"
   ]
  },
  {
   "cell_type": "code",
   "execution_count": 90,
   "metadata": {},
   "outputs": [
    {
     "name": "stdout",
     "output_type": "stream",
     "text": [
      "Linear SVM without feature EDUCATION  0.8094074074074074 \n",
      "\n"
     ]
    },
    {
     "name": "stderr",
     "output_type": "stream",
     "text": [
      "c:\\users\\kangy\\appdata\\local\\programs\\python\\python37\\lib\\site-packages\\sklearn\\svm\\base.py:196: FutureWarning: The default value of gamma will change from 'auto' to 'scale' in version 0.22 to account better for unscaled features. Set gamma explicitly to 'auto' or 'scale' to avoid this warning.\n",
      "  \"avoid this warning.\", FutureWarning)\n"
     ]
    },
    {
     "name": "stdout",
     "output_type": "stream",
     "text": [
      "Poly SVM without feature EDUCATION  0.8005555555555556 \n",
      "\n"
     ]
    }
   ],
   "source": [
    "X_train_temp = X_train.drop(columns=['EDUCATION_0',\n",
    "       'EDUCATION_1', 'EDUCATION_2', 'EDUCATION_3', 'EDUCATION_4',\n",
    "       'EDUCATION_5', 'EDUCATION_6'])\n",
    "X_test_temp = X_test.drop(columns=['EDUCATION_0',\n",
    "       'EDUCATION_1', 'EDUCATION_2', 'EDUCATION_3', 'EDUCATION_4',\n",
    "       'EDUCATION_5', 'EDUCATION_6'])\n",
    "predictor_linear = clf.fit(X_train_temp,y_train)\n",
    "y_predict_test_temp = predictor_linear.predict(X_test_temp)\n",
    "acc_temp = accuracy_score(y_test, y_predict_test_temp)\n",
    "acc_linear.append(acc_temp)\n",
    "print('Linear SVM without feature EDUCATION ', acc_temp, '\\n')\n",
    "\n",
    "predictor_poly = clf_poly.fit(X_train_temp,y_train)\n",
    "y_predict_test_temp = predictor_poly.predict(X_test_temp)\n",
    "acc_temp = accuracy_score(y_test, y_predict_test_temp)\n",
    "acc_poly.append(acc_temp)\n",
    "print('Poly SVM without feature EDUCATION ', acc_temp, '\\n')"
   ]
  },
  {
   "cell_type": "code",
   "execution_count": 91,
   "metadata": {},
   "outputs": [
    {
     "name": "stdout",
     "output_type": "stream",
     "text": [
      "Linear SVM without feature MARRIAGE  0.8101481481481482 \n",
      "\n"
     ]
    },
    {
     "name": "stderr",
     "output_type": "stream",
     "text": [
      "c:\\users\\kangy\\appdata\\local\\programs\\python\\python37\\lib\\site-packages\\sklearn\\svm\\base.py:196: FutureWarning: The default value of gamma will change from 'auto' to 'scale' in version 0.22 to account better for unscaled features. Set gamma explicitly to 'auto' or 'scale' to avoid this warning.\n",
      "  \"avoid this warning.\", FutureWarning)\n"
     ]
    },
    {
     "name": "stdout",
     "output_type": "stream",
     "text": [
      "Poly SVM without feature MARRIAGE  0.8002592592592592 \n",
      "\n"
     ]
    }
   ],
   "source": [
    "X_train_temp = X_train.drop(columns=['MARRIAGE_0', 'MARRIAGE_1', 'MARRIAGE_2',\n",
    "       'MARRIAGE_3'])\n",
    "X_test_temp = X_test.drop(columns=['MARRIAGE_0', 'MARRIAGE_1', 'MARRIAGE_2',\n",
    "       'MARRIAGE_3'])\n",
    "predictor_linear = clf.fit(X_train_temp,y_train)\n",
    "y_predict_test_temp = predictor_linear.predict(X_test_temp)\n",
    "acc_temp = accuracy_score(y_test, y_predict_test_temp)\n",
    "acc_linear.append(acc_temp)\n",
    "print('Linear SVM without feature MARRIAGE ', acc_temp, '\\n')\n",
    "\n",
    "predictor_poly = clf_poly.fit(X_train_temp,y_train)\n",
    "y_predict_test_temp = predictor_poly.predict(X_test_temp)\n",
    "acc_temp = accuracy_score(y_test, y_predict_test_temp)\n",
    "acc_poly.append(acc_temp)\n",
    "print('Poly SVM without feature MARRIAGE ', acc_temp, '\\n')"
   ]
  },
  {
   "cell_type": "code",
   "execution_count": 100,
   "metadata": {},
   "outputs": [
    {
     "data": {
      "text/html": [
       "<div>\n",
       "<style scoped>\n",
       "    .dataframe tbody tr th:only-of-type {\n",
       "        vertical-align: middle;\n",
       "    }\n",
       "\n",
       "    .dataframe tbody tr th {\n",
       "        vertical-align: top;\n",
       "    }\n",
       "\n",
       "    .dataframe thead th {\n",
       "        text-align: right;\n",
       "    }\n",
       "</style>\n",
       "<table border=\"1\" class=\"dataframe\">\n",
       "  <thead>\n",
       "    <tr style=\"text-align: right;\">\n",
       "      <th></th>\n",
       "      <th>Linear</th>\n",
       "      <th>Poly</th>\n",
       "    </tr>\n",
       "  </thead>\n",
       "  <tbody>\n",
       "    <tr>\n",
       "      <th>LIMIT_BAL</th>\n",
       "      <td>0.809889</td>\n",
       "      <td>0.801778</td>\n",
       "    </tr>\n",
       "    <tr>\n",
       "      <th>AGE</th>\n",
       "      <td>0.809074</td>\n",
       "      <td>0.800963</td>\n",
       "    </tr>\n",
       "    <tr>\n",
       "      <th>PAY_1</th>\n",
       "      <td>0.778593</td>\n",
       "      <td>0.795074</td>\n",
       "    </tr>\n",
       "    <tr>\n",
       "      <th>PAY_2</th>\n",
       "      <td>0.805333</td>\n",
       "      <td>0.799074</td>\n",
       "    </tr>\n",
       "    <tr>\n",
       "      <th>PAY_3</th>\n",
       "      <td>0.809222</td>\n",
       "      <td>0.801222</td>\n",
       "    </tr>\n",
       "    <tr>\n",
       "      <th>PAY_4</th>\n",
       "      <td>0.809370</td>\n",
       "      <td>0.801667</td>\n",
       "    </tr>\n",
       "    <tr>\n",
       "      <th>PAY_5</th>\n",
       "      <td>0.809815</td>\n",
       "      <td>0.801407</td>\n",
       "    </tr>\n",
       "    <tr>\n",
       "      <th>PAY_6</th>\n",
       "      <td>0.811259</td>\n",
       "      <td>0.799704</td>\n",
       "    </tr>\n",
       "    <tr>\n",
       "      <th>BILL_AMT1</th>\n",
       "      <td>0.809704</td>\n",
       "      <td>0.801296</td>\n",
       "    </tr>\n",
       "    <tr>\n",
       "      <th>BILL_AMT2</th>\n",
       "      <td>0.809148</td>\n",
       "      <td>0.801111</td>\n",
       "    </tr>\n",
       "    <tr>\n",
       "      <th>BILL_AMT3</th>\n",
       "      <td>0.809000</td>\n",
       "      <td>0.801037</td>\n",
       "    </tr>\n",
       "    <tr>\n",
       "      <th>BILL_AMT4</th>\n",
       "      <td>0.809037</td>\n",
       "      <td>0.801519</td>\n",
       "    </tr>\n",
       "    <tr>\n",
       "      <th>BILL_AMT5</th>\n",
       "      <td>0.809481</td>\n",
       "      <td>0.801926</td>\n",
       "    </tr>\n",
       "    <tr>\n",
       "      <th>BILL_AMT6</th>\n",
       "      <td>0.809222</td>\n",
       "      <td>0.801593</td>\n",
       "    </tr>\n",
       "    <tr>\n",
       "      <th>PAY_AMT1</th>\n",
       "      <td>0.809222</td>\n",
       "      <td>0.801667</td>\n",
       "    </tr>\n",
       "    <tr>\n",
       "      <th>PAY_AMT2</th>\n",
       "      <td>0.810259</td>\n",
       "      <td>0.801519</td>\n",
       "    </tr>\n",
       "    <tr>\n",
       "      <th>PAY_AMT3</th>\n",
       "      <td>0.809481</td>\n",
       "      <td>0.801259</td>\n",
       "    </tr>\n",
       "    <tr>\n",
       "      <th>PAY_AMT4</th>\n",
       "      <td>0.809000</td>\n",
       "      <td>0.801185</td>\n",
       "    </tr>\n",
       "    <tr>\n",
       "      <th>PAY_AMT5</th>\n",
       "      <td>0.810259</td>\n",
       "      <td>0.801926</td>\n",
       "    </tr>\n",
       "    <tr>\n",
       "      <th>PAY_AMT6</th>\n",
       "      <td>0.809185</td>\n",
       "      <td>0.802037</td>\n",
       "    </tr>\n",
       "    <tr>\n",
       "      <th>SEX</th>\n",
       "      <td>0.809259</td>\n",
       "      <td>0.802593</td>\n",
       "    </tr>\n",
       "    <tr>\n",
       "      <th>EDUCATION</th>\n",
       "      <td>0.809407</td>\n",
       "      <td>0.800556</td>\n",
       "    </tr>\n",
       "    <tr>\n",
       "      <th>MARRIAGE</th>\n",
       "      <td>0.810148</td>\n",
       "      <td>0.800259</td>\n",
       "    </tr>\n",
       "  </tbody>\n",
       "</table>\n",
       "</div>"
      ],
      "text/plain": [
       "             Linear      Poly\n",
       "LIMIT_BAL  0.809889  0.801778\n",
       "AGE        0.809074  0.800963\n",
       "PAY_1      0.778593  0.795074\n",
       "PAY_2      0.805333  0.799074\n",
       "PAY_3      0.809222  0.801222\n",
       "PAY_4      0.809370  0.801667\n",
       "PAY_5      0.809815  0.801407\n",
       "PAY_6      0.811259  0.799704\n",
       "BILL_AMT1  0.809704  0.801296\n",
       "BILL_AMT2  0.809148  0.801111\n",
       "BILL_AMT3  0.809000  0.801037\n",
       "BILL_AMT4  0.809037  0.801519\n",
       "BILL_AMT5  0.809481  0.801926\n",
       "BILL_AMT6  0.809222  0.801593\n",
       "PAY_AMT1   0.809222  0.801667\n",
       "PAY_AMT2   0.810259  0.801519\n",
       "PAY_AMT3   0.809481  0.801259\n",
       "PAY_AMT4   0.809000  0.801185\n",
       "PAY_AMT5   0.810259  0.801926\n",
       "PAY_AMT6   0.809185  0.802037\n",
       "SEX        0.809259  0.802593\n",
       "EDUCATION  0.809407  0.800556\n",
       "MARRIAGE   0.810148  0.800259"
      ]
     },
     "execution_count": 100,
     "metadata": {},
     "output_type": "execute_result"
    }
   ],
   "source": [
    "cols_name = ['LIMIT_BAL', 'AGE', 'PAY_1', 'PAY_2', 'PAY_3', 'PAY_4', 'PAY_5',\n",
    "       'PAY_6', 'BILL_AMT1', 'BILL_AMT2', 'BILL_AMT3', 'BILL_AMT4',\n",
    "       'BILL_AMT5', 'BILL_AMT6', 'PAY_AMT1', 'PAY_AMT2', 'PAY_AMT3',\n",
    "       'PAY_AMT4', 'PAY_AMT5', 'PAY_AMT6', 'SEX', 'EDUCATION', 'MARRIAGE']\n",
    "indx_name = ['Linear', 'Poly']\n",
    "dfResult = pd.DataFrame([acc_linear, acc_poly], index=indx_name, columns=cols_name)\n",
    "dfResult = dfResult.T\n",
    "dfResult"
   ]
  },
  {
   "cell_type": "code",
   "execution_count": 106,
   "metadata": {},
   "outputs": [],
   "source": [
    "dfResult.to_csv(r'../data/Feature_Selection_Result.csv')"
   ]
  },
  {
   "cell_type": "code",
   "execution_count": 122,
   "metadata": {},
   "outputs": [
    {
     "data": {
      "text/html": [
       "<div>\n",
       "<style scoped>\n",
       "    .dataframe tbody tr th:only-of-type {\n",
       "        vertical-align: middle;\n",
       "    }\n",
       "\n",
       "    .dataframe tbody tr th {\n",
       "        vertical-align: top;\n",
       "    }\n",
       "\n",
       "    .dataframe thead th {\n",
       "        text-align: right;\n",
       "    }\n",
       "</style>\n",
       "<table border=\"1\" class=\"dataframe\">\n",
       "  <thead>\n",
       "    <tr style=\"text-align: right;\">\n",
       "      <th></th>\n",
       "      <th>Linear_Diff</th>\n",
       "      <th>Poly_Diff</th>\n",
       "    </tr>\n",
       "  </thead>\n",
       "  <tbody>\n",
       "    <tr>\n",
       "      <th>LIMIT_BAL</th>\n",
       "      <td>0.000630</td>\n",
       "      <td>0.000667</td>\n",
       "    </tr>\n",
       "    <tr>\n",
       "      <th>AGE</th>\n",
       "      <td>-0.000185</td>\n",
       "      <td>-0.000148</td>\n",
       "    </tr>\n",
       "    <tr>\n",
       "      <th>PAY_1</th>\n",
       "      <td>-0.030667</td>\n",
       "      <td>-0.006037</td>\n",
       "    </tr>\n",
       "    <tr>\n",
       "      <th>PAY_2</th>\n",
       "      <td>-0.003926</td>\n",
       "      <td>-0.002037</td>\n",
       "    </tr>\n",
       "    <tr>\n",
       "      <th>PAY_3</th>\n",
       "      <td>-0.000037</td>\n",
       "      <td>0.000111</td>\n",
       "    </tr>\n",
       "    <tr>\n",
       "      <th>PAY_4</th>\n",
       "      <td>0.000111</td>\n",
       "      <td>0.000556</td>\n",
       "    </tr>\n",
       "    <tr>\n",
       "      <th>PAY_5</th>\n",
       "      <td>0.000556</td>\n",
       "      <td>0.000296</td>\n",
       "    </tr>\n",
       "    <tr>\n",
       "      <th>PAY_6</th>\n",
       "      <td>0.002000</td>\n",
       "      <td>-0.001407</td>\n",
       "    </tr>\n",
       "    <tr>\n",
       "      <th>BILL_AMT1</th>\n",
       "      <td>0.000444</td>\n",
       "      <td>0.000185</td>\n",
       "    </tr>\n",
       "    <tr>\n",
       "      <th>BILL_AMT2</th>\n",
       "      <td>-0.000111</td>\n",
       "      <td>0.000000</td>\n",
       "    </tr>\n",
       "    <tr>\n",
       "      <th>BILL_AMT3</th>\n",
       "      <td>-0.000259</td>\n",
       "      <td>-0.000074</td>\n",
       "    </tr>\n",
       "    <tr>\n",
       "      <th>BILL_AMT4</th>\n",
       "      <td>-0.000222</td>\n",
       "      <td>0.000407</td>\n",
       "    </tr>\n",
       "    <tr>\n",
       "      <th>BILL_AMT5</th>\n",
       "      <td>0.000222</td>\n",
       "      <td>0.000815</td>\n",
       "    </tr>\n",
       "    <tr>\n",
       "      <th>BILL_AMT6</th>\n",
       "      <td>-0.000037</td>\n",
       "      <td>0.000481</td>\n",
       "    </tr>\n",
       "    <tr>\n",
       "      <th>PAY_AMT1</th>\n",
       "      <td>-0.000037</td>\n",
       "      <td>0.000556</td>\n",
       "    </tr>\n",
       "    <tr>\n",
       "      <th>PAY_AMT2</th>\n",
       "      <td>0.001000</td>\n",
       "      <td>0.000407</td>\n",
       "    </tr>\n",
       "    <tr>\n",
       "      <th>PAY_AMT3</th>\n",
       "      <td>0.000222</td>\n",
       "      <td>0.000148</td>\n",
       "    </tr>\n",
       "    <tr>\n",
       "      <th>PAY_AMT4</th>\n",
       "      <td>-0.000259</td>\n",
       "      <td>0.000074</td>\n",
       "    </tr>\n",
       "    <tr>\n",
       "      <th>PAY_AMT5</th>\n",
       "      <td>0.001000</td>\n",
       "      <td>0.000815</td>\n",
       "    </tr>\n",
       "    <tr>\n",
       "      <th>PAY_AMT6</th>\n",
       "      <td>-0.000074</td>\n",
       "      <td>0.000926</td>\n",
       "    </tr>\n",
       "    <tr>\n",
       "      <th>SEX</th>\n",
       "      <td>0.000000</td>\n",
       "      <td>0.001481</td>\n",
       "    </tr>\n",
       "    <tr>\n",
       "      <th>EDUCATION</th>\n",
       "      <td>0.000148</td>\n",
       "      <td>-0.000556</td>\n",
       "    </tr>\n",
       "    <tr>\n",
       "      <th>MARRIAGE</th>\n",
       "      <td>0.000889</td>\n",
       "      <td>-0.000852</td>\n",
       "    </tr>\n",
       "  </tbody>\n",
       "</table>\n",
       "</div>"
      ],
      "text/plain": [
       "           Linear_Diff  Poly_Diff\n",
       "LIMIT_BAL     0.000630   0.000667\n",
       "AGE          -0.000185  -0.000148\n",
       "PAY_1        -0.030667  -0.006037\n",
       "PAY_2        -0.003926  -0.002037\n",
       "PAY_3        -0.000037   0.000111\n",
       "PAY_4         0.000111   0.000556\n",
       "PAY_5         0.000556   0.000296\n",
       "PAY_6         0.002000  -0.001407\n",
       "BILL_AMT1     0.000444   0.000185\n",
       "BILL_AMT2    -0.000111   0.000000\n",
       "BILL_AMT3    -0.000259  -0.000074\n",
       "BILL_AMT4    -0.000222   0.000407\n",
       "BILL_AMT5     0.000222   0.000815\n",
       "BILL_AMT6    -0.000037   0.000481\n",
       "PAY_AMT1     -0.000037   0.000556\n",
       "PAY_AMT2      0.001000   0.000407\n",
       "PAY_AMT3      0.000222   0.000148\n",
       "PAY_AMT4     -0.000259   0.000074\n",
       "PAY_AMT5      0.001000   0.000815\n",
       "PAY_AMT6     -0.000074   0.000926\n",
       "SEX           0.000000   0.001481\n",
       "EDUCATION     0.000148  -0.000556\n",
       "MARRIAGE      0.000889  -0.000852"
      ]
     },
     "execution_count": 122,
     "metadata": {},
     "output_type": "execute_result"
    }
   ],
   "source": [
    "dfResultDiff = pd.DataFrame([],index=cols_name, columns=['Linear_Diff', 'Poly_Diff'])\n",
    "dfResultDiff['Linear_Diff'] = dfResult['Linear'] - acc_linear_base\n",
    "dfResultDiff['Poly_Diff'] = dfResult['Poly'] - acc_poly_base\n",
    "dfResultDiff"
   ]
  },
  {
   "cell_type": "markdown",
   "metadata": {},
   "source": [
    "# Take out more features\n",
    "take out several features at a time to find the best dataset for SVM model"
   ]
  },
  {
   "cell_type": "markdown",
   "metadata": {},
   "source": [
    "## Linear SVM\n",
    "First I view the impact by bar chart"
   ]
  },
  {
   "cell_type": "code",
   "execution_count": 159,
   "metadata": {},
   "outputs": [
    {
     "name": "stdout",
     "output_type": "stream",
     "text": [
      "PAY_6        0.002000\n",
      "PAY_AMT5     0.001000\n",
      "PAY_AMT2     0.001000\n",
      "MARRIAGE     0.000889\n",
      "LIMIT_BAL    0.000630\n",
      "PAY_5        0.000556\n",
      "BILL_AMT1    0.000444\n",
      "BILL_AMT5    0.000222\n",
      "PAY_AMT3     0.000222\n",
      "EDUCATION    0.000148\n",
      "PAY_4        0.000111\n",
      "SEX          0.000000\n",
      "PAY_3       -0.000037\n",
      "PAY_AMT1    -0.000037\n",
      "BILL_AMT6   -0.000037\n",
      "PAY_AMT6    -0.000074\n",
      "BILL_AMT2   -0.000111\n",
      "AGE         -0.000185\n",
      "BILL_AMT4   -0.000222\n",
      "BILL_AMT3   -0.000259\n",
      "PAY_AMT4    -0.000259\n",
      "PAY_2       -0.003926\n",
      "PAY_1       -0.030667\n",
      "Name: Linear_Diff, dtype: float64\n"
     ]
    },
    {
     "data": {
      "image/png": "[encoded data removed]",
      "text/plain": [
       "<Figure size 720x720 with 1 Axes>"
      ]
     },
     "metadata": {
      "needs_background": "light"
     },
     "output_type": "display_data"
    }
   ],
   "source": [
    "featureList_Linear = dfResultDiff['Linear_Diff'].sort_values(ascending=True)\n",
    "featureList_Linear.plot('barh',figsize=(10,10))\n",
    "print(featureList_Linear.sort_values(ascending=False))"
   ]
  },
  {
   "cell_type": "markdown",
   "metadata": {},
   "source": [
    "From the chart, it seems that I could cut out first 16 features (PAY_6 to PAY_AMT6) and only keep first 7 features.\n",
    "\n",
    "Some of them not only do very minimal influence to overall accuracy (SEX to BILL_AMT).\n",
    "\n",
    "Also, dropping other of them could imporve overall accuracy."
   ]
  },
  {
   "cell_type": "code",
   "execution_count": 170,
   "metadata": {},
   "outputs": [],
   "source": [
    "colsEducation = ['EDUCATION_1', 'EDUCATION_2', 'EDUCATION_3', 'EDUCATION_4', 'EDUCATION_5', 'EDUCATION_6']\n",
    "colsSex = ['SEX_1', 'SEX_2']\n",
    "colsMarriage = ['MARRIAGE_0', 'MARRIAGE_1', 'MARRIAGE_2', 'MARRIAGE_3']\n",
    "cols = features.columns\n",
    "featureList_Linear = featureList_Linear.sort_values(ascending=False)\n",
    "acc_feat_linear = []"
   ]
  },
  {
   "cell_type": "code",
   "execution_count": 176,
   "metadata": {},
   "outputs": [
    {
     "name": "stdout",
     "output_type": "stream",
     "text": [
      "PAY_6\n",
      "Poly SVM without 1 feature:  0.8112592592592592 \n",
      "\n",
      "PAY_AMT5\n",
      "Poly SVM without 2 feature:  0.8096666666666666 \n",
      "\n",
      "PAY_AMT2\n",
      "Poly SVM without 3 feature:  0.809 \n",
      "\n",
      "['MARRIAGE_0', 'MARRIAGE_1', 'MARRIAGE_2', 'MARRIAGE_3']\n",
      "Poly SVM without 4 feature:  0.8111111111111111 \n",
      "\n",
      "LIMIT_BAL\n",
      "Poly SVM without 5 feature:  0.8091481481481482 \n",
      "\n",
      "PAY_5\n",
      "Poly SVM without 6 feature:  0.8091111111111111 \n",
      "\n",
      "BILL_AMT1\n",
      "Poly SVM without 7 feature:  0.8095185185185185 \n",
      "\n",
      "BILL_AMT5\n",
      "Poly SVM without 8 feature:  0.8094074074074074 \n",
      "\n",
      "PAY_AMT3\n",
      "Poly SVM without 9 feature:  0.8087777777777778 \n",
      "\n",
      "['EDUCATION_1', 'EDUCATION_2', 'EDUCATION_3', 'EDUCATION_4', 'EDUCATION_5', 'EDUCATION_6']\n",
      "Poly SVM without 10 feature:  0.808962962962963 \n",
      "\n",
      "PAY_4\n",
      "Poly SVM without 11 feature:  0.8075185185185185 \n",
      "\n",
      "['SEX_1', 'SEX_2']\n",
      "Poly SVM without 12 feature:  0.8091111111111111 \n",
      "\n",
      "PAY_3\n",
      "Poly SVM without 13 feature:  0.8052962962962963 \n",
      "\n",
      "PAY_AMT1\n",
      "Poly SVM without 14 feature:  0.809037037037037 \n",
      "\n",
      "BILL_AMT6\n",
      "Poly SVM without 15 feature:  0.7994074074074075 \n",
      "\n",
      "PAY_AMT6\n",
      "Poly SVM without 16 feature:  0.8052962962962963 \n",
      "\n"
     ]
    }
   ],
   "source": [
    "for i in range(0,16):\n",
    "    dropFeature = featureList_Linear.index[i]\n",
    "    if dropFeature == 'SEX': dropFeature = colsSex\n",
    "    if dropFeature == 'MARRIAGE': dropFeature = colsMarriage\n",
    "    if dropFeature == 'EDUCATION': dropFeature = colsEducation\n",
    "    print(dropFeature)\n",
    "    cols = cols.drop(dropFeature)\n",
    "    \n",
    "    X_train_temp = X_train[cols]\n",
    "    X_test_temp = X_test[cols]\n",
    "    \n",
    "    predictor = clf.fit(X_train_temp,y_train)\n",
    "    y_predict_test_temp = predictor.predict(X_test_temp)\n",
    "    acc_temp = accuracy_score(y_test, y_predict_test_temp)\n",
    "    print('Poly SVM without', i+1,'feature: ' ,acc_temp, '\\n')\n",
    "    acc_feat_linear.append(acc_temp)"
   ]
  },
  {
   "cell_type": "code",
   "execution_count": 208,
   "metadata": {},
   "outputs": [
    {
     "data": {
      "text/plain": [
       "[<matplotlib.axis.XTick at 0x2874306aac8>,\n",
       " <matplotlib.axis.XTick at 0x2874306a358>,\n",
       " <matplotlib.axis.XTick at 0x2874306a208>,\n",
       " <matplotlib.axis.XTick at 0x28743086978>,\n",
       " <matplotlib.axis.XTick at 0x28743086cc0>,\n",
       " <matplotlib.axis.XTick at 0x2874308d1d0>,\n",
       " <matplotlib.axis.XTick at 0x2874308d6a0>,\n",
       " <matplotlib.axis.XTick at 0x2874308db70>,\n",
       " <matplotlib.axis.XTick at 0x287430940f0>,\n",
       " <matplotlib.axis.XTick at 0x28743094550>,\n",
       " <matplotlib.axis.XTick at 0x28743094a20>,\n",
       " <matplotlib.axis.XTick at 0x28743094ef0>,\n",
       " <matplotlib.axis.XTick at 0x28743094978>,\n",
       " <matplotlib.axis.XTick at 0x2874308dc50>,\n",
       " <matplotlib.axis.XTick at 0x2874308d668>,\n",
       " <matplotlib.axis.XTick at 0x2874309c860>]"
      ]
     },
     "execution_count": 208,
     "metadata": {},
     "output_type": "execute_result"
    },
    {
     "data": {
      "image/png": "[encoded data removed]",
      "text/plain": [
       "<Figure size 864x576 with 1 Axes>"
      ]
     },
     "metadata": {
      "needs_background": "light"
     },
     "output_type": "display_data"
    }
   ],
   "source": [
    "fig = plt.figure(figsize=(12,8))\n",
    "ax = fig.add_subplot(1,1,1) \n",
    "ax.plot(acc_feat_linear)\n",
    "ax.grid(which='major', axis='both', linestyle='-', alpha=1)\n",
    "ax.set_xticks(range(16))"
   ]
  },
  {
   "cell_type": "markdown",
   "metadata": {},
   "source": [
    "When removing to 10 features, the accuracy will be severely decreased\n",
    "\n",
    "The model performance the best when dropping only 1 feature: PAY_6"
   ]
  },
  {
   "cell_type": "markdown",
   "metadata": {},
   "source": [
    "## Poly SVM"
   ]
  },
  {
   "cell_type": "code",
   "execution_count": 133,
   "metadata": {},
   "outputs": [
    {
     "name": "stdout",
     "output_type": "stream",
     "text": [
      "SEX          0.001481\n",
      "PAY_AMT6     0.000926\n",
      "PAY_AMT5     0.000815\n",
      "BILL_AMT5    0.000815\n",
      "LIMIT_BAL    0.000667\n",
      "PAY_AMT1     0.000556\n",
      "PAY_4        0.000556\n",
      "BILL_AMT6    0.000481\n",
      "BILL_AMT4    0.000407\n",
      "PAY_AMT2     0.000407\n",
      "PAY_5        0.000296\n",
      "BILL_AMT1    0.000185\n",
      "PAY_AMT3     0.000148\n",
      "PAY_3        0.000111\n",
      "PAY_AMT4     0.000074\n",
      "BILL_AMT2    0.000000\n",
      "BILL_AMT3   -0.000074\n",
      "AGE         -0.000148\n",
      "EDUCATION   -0.000556\n",
      "MARRIAGE    -0.000852\n",
      "PAY_6       -0.001407\n",
      "PAY_2       -0.002037\n",
      "PAY_1       -0.006037\n",
      "Name: Poly_Diff, dtype: float64\n"
     ]
    },
    {
     "data": {
      "image/png": "[encoded data removed]",
      "text/plain": [
       "<Figure size 720x720 with 1 Axes>"
      ]
     },
     "metadata": {
      "needs_background": "light"
     },
     "output_type": "display_data"
    }
   ],
   "source": [
    "featureList_Poly = dfResultDiff['Poly_Diff'].sort_values(ascending=True)\n",
    "featureList_Poly.plot('barh',figsize=(10,10))\n",
    "print(featureList_Poly.sort_values(ascending=False))"
   ]
  },
  {
   "cell_type": "markdown",
   "metadata": {},
   "source": [
    "From the chart, it seems that I could cut out first 18 features (SEX to BILL_AMT3) and only keep first 6 features.\n",
    "\n",
    "Some of them do very minimal influence to overall accuracy (PAY_AMT4, BILL_AMT2, and BILL_AMT3).\n",
    "\n",
    "Also, dropping others might improve the performance of the model."
   ]
  },
  {
   "cell_type": "code",
   "execution_count": 212,
   "metadata": {},
   "outputs": [],
   "source": [
    "cols = features.columns\n",
    "featureList_Poly = featureList_Poly.sort_values(ascending=False)\n",
    "acc_feat_poly = []"
   ]
  },
  {
   "cell_type": "code",
   "execution_count": 213,
   "metadata": {},
   "outputs": [
    {
     "name": "stdout",
     "output_type": "stream",
     "text": [
      "PAY_6\n"
     ]
    },
    {
     "name": "stderr",
     "output_type": "stream",
     "text": [
      "c:\\users\\kangy\\appdata\\local\\programs\\python\\python37\\lib\\site-packages\\sklearn\\svm\\base.py:196: FutureWarning: The default value of gamma will change from 'auto' to 'scale' in version 0.22 to account better for unscaled features. Set gamma explicitly to 'auto' or 'scale' to avoid this warning.\n",
      "  \"avoid this warning.\", FutureWarning)\n"
     ]
    },
    {
     "name": "stdout",
     "output_type": "stream",
     "text": [
      "Poly SVM without 1 feature:  0.7997037037037037 \n",
      "\n",
      "PAY_AMT5\n"
     ]
    },
    {
     "name": "stderr",
     "output_type": "stream",
     "text": [
      "c:\\users\\kangy\\appdata\\local\\programs\\python\\python37\\lib\\site-packages\\sklearn\\svm\\base.py:196: FutureWarning: The default value of gamma will change from 'auto' to 'scale' in version 0.22 to account better for unscaled features. Set gamma explicitly to 'auto' or 'scale' to avoid this warning.\n",
      "  \"avoid this warning.\", FutureWarning)\n"
     ]
    },
    {
     "name": "stdout",
     "output_type": "stream",
     "text": [
      "Poly SVM without 2 feature:  0.8007037037037037 \n",
      "\n",
      "PAY_AMT2\n"
     ]
    },
    {
     "name": "stderr",
     "output_type": "stream",
     "text": [
      "c:\\users\\kangy\\appdata\\local\\programs\\python\\python37\\lib\\site-packages\\sklearn\\svm\\base.py:196: FutureWarning: The default value of gamma will change from 'auto' to 'scale' in version 0.22 to account better for unscaled features. Set gamma explicitly to 'auto' or 'scale' to avoid this warning.\n",
      "  \"avoid this warning.\", FutureWarning)\n"
     ]
    },
    {
     "name": "stdout",
     "output_type": "stream",
     "text": [
      "Poly SVM without 3 feature:  0.801 \n",
      "\n",
      "['MARRIAGE_0', 'MARRIAGE_1', 'MARRIAGE_2', 'MARRIAGE_3']\n"
     ]
    },
    {
     "name": "stderr",
     "output_type": "stream",
     "text": [
      "c:\\users\\kangy\\appdata\\local\\programs\\python\\python37\\lib\\site-packages\\sklearn\\svm\\base.py:196: FutureWarning: The default value of gamma will change from 'auto' to 'scale' in version 0.22 to account better for unscaled features. Set gamma explicitly to 'auto' or 'scale' to avoid this warning.\n",
      "  \"avoid this warning.\", FutureWarning)\n"
     ]
    },
    {
     "name": "stdout",
     "output_type": "stream",
     "text": [
      "Poly SVM without 4 feature:  0.799962962962963 \n",
      "\n",
      "LIMIT_BAL\n"
     ]
    },
    {
     "name": "stderr",
     "output_type": "stream",
     "text": [
      "c:\\users\\kangy\\appdata\\local\\programs\\python\\python37\\lib\\site-packages\\sklearn\\svm\\base.py:196: FutureWarning: The default value of gamma will change from 'auto' to 'scale' in version 0.22 to account better for unscaled features. Set gamma explicitly to 'auto' or 'scale' to avoid this warning.\n",
      "  \"avoid this warning.\", FutureWarning)\n"
     ]
    },
    {
     "name": "stdout",
     "output_type": "stream",
     "text": [
      "Poly SVM without 5 feature:  0.8015925925925926 \n",
      "\n",
      "PAY_5\n"
     ]
    },
    {
     "name": "stderr",
     "output_type": "stream",
     "text": [
      "c:\\users\\kangy\\appdata\\local\\programs\\python\\python37\\lib\\site-packages\\sklearn\\svm\\base.py:196: FutureWarning: The default value of gamma will change from 'auto' to 'scale' in version 0.22 to account better for unscaled features. Set gamma explicitly to 'auto' or 'scale' to avoid this warning.\n",
      "  \"avoid this warning.\", FutureWarning)\n"
     ]
    },
    {
     "name": "stdout",
     "output_type": "stream",
     "text": [
      "Poly SVM without 6 feature:  0.8012592592592592 \n",
      "\n",
      "BILL_AMT1\n"
     ]
    },
    {
     "name": "stderr",
     "output_type": "stream",
     "text": [
      "c:\\users\\kangy\\appdata\\local\\programs\\python\\python37\\lib\\site-packages\\sklearn\\svm\\base.py:196: FutureWarning: The default value of gamma will change from 'auto' to 'scale' in version 0.22 to account better for unscaled features. Set gamma explicitly to 'auto' or 'scale' to avoid this warning.\n",
      "  \"avoid this warning.\", FutureWarning)\n"
     ]
    },
    {
     "name": "stdout",
     "output_type": "stream",
     "text": [
      "Poly SVM without 7 feature:  0.8013703703703704 \n",
      "\n",
      "BILL_AMT5\n"
     ]
    },
    {
     "name": "stderr",
     "output_type": "stream",
     "text": [
      "c:\\users\\kangy\\appdata\\local\\programs\\python\\python37\\lib\\site-packages\\sklearn\\svm\\base.py:196: FutureWarning: The default value of gamma will change from 'auto' to 'scale' in version 0.22 to account better for unscaled features. Set gamma explicitly to 'auto' or 'scale' to avoid this warning.\n",
      "  \"avoid this warning.\", FutureWarning)\n"
     ]
    },
    {
     "name": "stdout",
     "output_type": "stream",
     "text": [
      "Poly SVM without 8 feature:  0.802037037037037 \n",
      "\n",
      "PAY_AMT3\n"
     ]
    },
    {
     "name": "stderr",
     "output_type": "stream",
     "text": [
      "c:\\users\\kangy\\appdata\\local\\programs\\python\\python37\\lib\\site-packages\\sklearn\\svm\\base.py:196: FutureWarning: The default value of gamma will change from 'auto' to 'scale' in version 0.22 to account better for unscaled features. Set gamma explicitly to 'auto' or 'scale' to avoid this warning.\n",
      "  \"avoid this warning.\", FutureWarning)\n"
     ]
    },
    {
     "name": "stdout",
     "output_type": "stream",
     "text": [
      "Poly SVM without 9 feature:  0.8021851851851852 \n",
      "\n",
      "['EDUCATION_1', 'EDUCATION_2', 'EDUCATION_3', 'EDUCATION_4', 'EDUCATION_5', 'EDUCATION_6']\n"
     ]
    },
    {
     "name": "stderr",
     "output_type": "stream",
     "text": [
      "c:\\users\\kangy\\appdata\\local\\programs\\python\\python37\\lib\\site-packages\\sklearn\\svm\\base.py:196: FutureWarning: The default value of gamma will change from 'auto' to 'scale' in version 0.22 to account better for unscaled features. Set gamma explicitly to 'auto' or 'scale' to avoid this warning.\n",
      "  \"avoid this warning.\", FutureWarning)\n"
     ]
    },
    {
     "name": "stdout",
     "output_type": "stream",
     "text": [
      "Poly SVM without 10 feature:  0.8012222222222222 \n",
      "\n",
      "PAY_4\n"
     ]
    },
    {
     "name": "stderr",
     "output_type": "stream",
     "text": [
      "c:\\users\\kangy\\appdata\\local\\programs\\python\\python37\\lib\\site-packages\\sklearn\\svm\\base.py:196: FutureWarning: The default value of gamma will change from 'auto' to 'scale' in version 0.22 to account better for unscaled features. Set gamma explicitly to 'auto' or 'scale' to avoid this warning.\n",
      "  \"avoid this warning.\", FutureWarning)\n"
     ]
    },
    {
     "name": "stdout",
     "output_type": "stream",
     "text": [
      "Poly SVM without 11 feature:  0.8027777777777778 \n",
      "\n",
      "['SEX_1', 'SEX_2']\n"
     ]
    },
    {
     "name": "stderr",
     "output_type": "stream",
     "text": [
      "c:\\users\\kangy\\appdata\\local\\programs\\python\\python37\\lib\\site-packages\\sklearn\\svm\\base.py:196: FutureWarning: The default value of gamma will change from 'auto' to 'scale' in version 0.22 to account better for unscaled features. Set gamma explicitly to 'auto' or 'scale' to avoid this warning.\n",
      "  \"avoid this warning.\", FutureWarning)\n"
     ]
    },
    {
     "name": "stdout",
     "output_type": "stream",
     "text": [
      "Poly SVM without 12 feature:  0.8013703703703704 \n",
      "\n",
      "PAY_3\n"
     ]
    },
    {
     "name": "stderr",
     "output_type": "stream",
     "text": [
      "c:\\users\\kangy\\appdata\\local\\programs\\python\\python37\\lib\\site-packages\\sklearn\\svm\\base.py:196: FutureWarning: The default value of gamma will change from 'auto' to 'scale' in version 0.22 to account better for unscaled features. Set gamma explicitly to 'auto' or 'scale' to avoid this warning.\n",
      "  \"avoid this warning.\", FutureWarning)\n"
     ]
    },
    {
     "name": "stdout",
     "output_type": "stream",
     "text": [
      "Poly SVM without 13 feature:  0.7975925925925926 \n",
      "\n",
      "PAY_AMT1\n"
     ]
    },
    {
     "name": "stderr",
     "output_type": "stream",
     "text": [
      "c:\\users\\kangy\\appdata\\local\\programs\\python\\python37\\lib\\site-packages\\sklearn\\svm\\base.py:196: FutureWarning: The default value of gamma will change from 'auto' to 'scale' in version 0.22 to account better for unscaled features. Set gamma explicitly to 'auto' or 'scale' to avoid this warning.\n",
      "  \"avoid this warning.\", FutureWarning)\n"
     ]
    },
    {
     "name": "stdout",
     "output_type": "stream",
     "text": [
      "Poly SVM without 14 feature:  0.798074074074074 \n",
      "\n",
      "BILL_AMT6\n"
     ]
    },
    {
     "name": "stderr",
     "output_type": "stream",
     "text": [
      "c:\\users\\kangy\\appdata\\local\\programs\\python\\python37\\lib\\site-packages\\sklearn\\svm\\base.py:196: FutureWarning: The default value of gamma will change from 'auto' to 'scale' in version 0.22 to account better for unscaled features. Set gamma explicitly to 'auto' or 'scale' to avoid this warning.\n",
      "  \"avoid this warning.\", FutureWarning)\n"
     ]
    },
    {
     "name": "stdout",
     "output_type": "stream",
     "text": [
      "Poly SVM without 15 feature:  0.7998518518518518 \n",
      "\n",
      "PAY_AMT6\n"
     ]
    },
    {
     "name": "stderr",
     "output_type": "stream",
     "text": [
      "c:\\users\\kangy\\appdata\\local\\programs\\python\\python37\\lib\\site-packages\\sklearn\\svm\\base.py:196: FutureWarning: The default value of gamma will change from 'auto' to 'scale' in version 0.22 to account better for unscaled features. Set gamma explicitly to 'auto' or 'scale' to avoid this warning.\n",
      "  \"avoid this warning.\", FutureWarning)\n"
     ]
    },
    {
     "name": "stdout",
     "output_type": "stream",
     "text": [
      "Poly SVM without 16 feature:  0.7984074074074075 \n",
      "\n",
      "BILL_AMT2\n"
     ]
    },
    {
     "name": "stderr",
     "output_type": "stream",
     "text": [
      "c:\\users\\kangy\\appdata\\local\\programs\\python\\python37\\lib\\site-packages\\sklearn\\svm\\base.py:196: FutureWarning: The default value of gamma will change from 'auto' to 'scale' in version 0.22 to account better for unscaled features. Set gamma explicitly to 'auto' or 'scale' to avoid this warning.\n",
      "  \"avoid this warning.\", FutureWarning)\n"
     ]
    },
    {
     "name": "stdout",
     "output_type": "stream",
     "text": [
      "Poly SVM without 17 feature:  0.7991481481481482 \n",
      "\n"
     ]
    }
   ],
   "source": [
    "for i in range(0,17):\n",
    "    dropFeature = featureList_Linear.index[i]\n",
    "    if dropFeature == 'SEX': dropFeature = colsSex\n",
    "    if dropFeature == 'MARRIAGE': dropFeature = colsMarriage\n",
    "    if dropFeature == 'EDUCATION': dropFeature = colsEducation\n",
    "    print(dropFeature)\n",
    "    cols = cols.drop(dropFeature)\n",
    "    \n",
    "    X_train_temp = X_train[cols]\n",
    "    X_test_temp = X_test[cols]\n",
    "    \n",
    "    predictor = clf_poly.fit(X_train_temp,y_train)\n",
    "    y_predict_test_temp = predictor.predict(X_test_temp)\n",
    "    acc_temp = accuracy_score(y_test, y_predict_test_temp)\n",
    "    print('Poly SVM without', i+1,'feature: ' ,acc_temp, '\\n')\n",
    "    acc_feat_poly.append(acc_temp)"
   ]
  },
  {
   "cell_type": "code",
   "execution_count": 214,
   "metadata": {},
   "outputs": [
    {
     "data": {
      "text/plain": [
       "[<matplotlib.axis.XTick at 0x28743402048>,\n",
       " <matplotlib.axis.XTick at 0x287433fc908>,\n",
       " <matplotlib.axis.XTick at 0x287433fc1d0>,\n",
       " <matplotlib.axis.XTick at 0x28743417be0>,\n",
       " <matplotlib.axis.XTick at 0x28743417cc0>,\n",
       " <matplotlib.axis.XTick at 0x2874341f438>,\n",
       " <matplotlib.axis.XTick at 0x2874341f908>,\n",
       " <matplotlib.axis.XTick at 0x2874341fdd8>,\n",
       " <matplotlib.axis.XTick at 0x287434292e8>,\n",
       " <matplotlib.axis.XTick at 0x287434297b8>,\n",
       " <matplotlib.axis.XTick at 0x28743429c88>,\n",
       " <matplotlib.axis.XTick at 0x28743580198>,\n",
       " <matplotlib.axis.XTick at 0x28743580668>,\n",
       " <matplotlib.axis.XTick at 0x28743429860>,\n",
       " <matplotlib.axis.XTick at 0x2874341f518>,\n",
       " <matplotlib.axis.XTick at 0x287435809e8>]"
      ]
     },
     "execution_count": 214,
     "metadata": {},
     "output_type": "execute_result"
    },
    {
     "data": {
      "image/png": "[encoded data removed]",
      "text/plain": [
       "<Figure size 864x576 with 1 Axes>"
      ]
     },
     "metadata": {
      "needs_background": "light"
     },
     "output_type": "display_data"
    }
   ],
   "source": [
    "fig = plt.figure(figsize=(12,8))\n",
    "ax = fig.add_subplot(1,1,1) \n",
    "ax.plot(acc_feat_poly)\n",
    "ax.grid(which='major', axis='both', linestyle='-', alpha=1)\n",
    "ax.set_xticks(range(16))"
   ]
  },
  {
   "cell_type": "markdown",
   "metadata": {},
   "source": [
    "The model performance the best when dropping 11 features and the the worst when dropping out 13 features"
   ]
  },
  {
   "cell_type": "code",
   "execution_count": null,
   "metadata": {},
   "outputs": [],
   "source": []
  }
 ],
 "metadata": {
  "kernelspec": {
   "display_name": "Python 3",
   "language": "python",
   "name": "python3"
  },
  "language_info": {
   "codemirror_mode": {
    "name": "ipython",
    "version": 3
   },
   "file_extension": ".py",
   "mimetype": "text/x-python",
   "name": "python",
   "nbconvert_exporter": "python",
   "pygments_lexer": "ipython3",
   "version": "3.7.2"
  }
 },
 "nbformat": 4,
 "nbformat_minor": 2
}
